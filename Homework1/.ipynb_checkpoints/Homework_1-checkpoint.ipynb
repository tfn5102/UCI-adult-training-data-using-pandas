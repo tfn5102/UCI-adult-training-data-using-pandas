{
 "cells": [
  {
   "cell_type": "markdown",
   "metadata": {},
   "source": [
    "# CMPSC 448: Homewrok #1\n",
    "# Exploratory Data Analysis with `pandas`\n",
    "\n",
    "## Objectives\n",
    "\n",
    "In this assignment, you are asked to analyze the UCI Adult data set containing demographic information about the US residents. This data was extracted from the census bureau database found at\n",
    "\n",
    "http://www.census.gov/ftp/pub/DES/www/welcome.html\n",
    "\n",
    "The features of data with possible values of each feature are listed below:\n",
    "\n",
    "| Feature Name| Possible Values  |\n",
    "|------|------|\n",
    "| age | continuous|\n",
    "| workclass| Private, Self-emp-not-inc, Self-emp-inc, Federal-gov, Local-gov, State-gov, Without-pay, Never-worked|\n",
    "| fnlwgt| continuous|\n",
    "| education | Bachelors, Some-college, 11th, HS-grad, Prof-school, Assoc-acdm, Assoc-voc, 9th, 7th-8th, 12th, Masters, 1st-4th, 10th, Doctorate, 5th-6th, Preschool|\n",
    "|education_num | continuous|\n",
    "|marital_status | Married-civ-spouse, Divorced, Never-married, Separated, Widowed, Married-spouse-absent, Married-AF-spouse|\n",
    "|occupation | Tech-support, Craft-repair, Other-service, Sales, Exec-managerial, Prof-specialty, Handlers-cleaners, Machine-op-inspct, Adm-clerical, Farming-fishing, Transport-moving, Priv-house-serv, Protective-serv, Armed-Forces|\n",
    "|relationship | Wife, Own-child, Husband, Not-in-family, Other-relative, Unmarried |\n",
    "|race | White, Asian-Pac-Islander, Amer-Indian-Eskimo, Other, Black|\n",
    "|sex | Female, Male|\n",
    "|capital_gain| continuous|\n",
    "|capital_loss | continuous|\n",
    "|hours-per-week | continuous |\n",
    "|native-country | United-States, Cambodia, England, Puerto-Rico, Canada, Germany, Outlying-US(Guam-USVI-etc), India, Japan, Greece, South, China, Cuba, Iran, Honduras, Philippines, Italy, Poland, Jamaica, Vietnam, Mexico, Portugal, Ireland, France, Dominican-Republic, Laos, Ecuador, Taiwan, Haiti, Columbia, Hungary, Guatemala, Nicaragua, Scotland, Thailand, Yugoslavia, El-Salvador, Trinadad&Tobago, Peru, Hong, Holand-Netherlands |\n",
    "|salary | >50K,<=50K |\n",
    "\n",
    "\n",
    "Please  complete the tasks in the Jupyter notebook by answering following 8 questions."
   ]
  },
  {
   "cell_type": "code",
   "execution_count": 2,
   "metadata": {},
   "outputs": [],
   "source": [
    "import numpy as np\n",
    "import pandas as pd\n",
    "from numpy import linalg as LA\n",
    "pd.set_option('display.max.columns', 100)\n",
    "# to draw pictures in jupyter notebook\n",
    "%matplotlib inline \n",
    "import matplotlib.pyplot as plt\n",
    "import seaborn as sns\n",
    "# we don't like warnings\n",
    "# you can comment the following 2 lines if you'd like to\n",
    "import warnings\n",
    "warnings.filterwarnings('ignore')\n",
    "\n"
   ]
  },
  {
   "cell_type": "code",
   "execution_count": 3,
   "metadata": {},
   "outputs": [
    {
     "name": "stdout",
     "output_type": "stream",
     "text": [
      "age\n",
      " workclass\n",
      " fnlwgt\n",
      " education\n",
      " education-num\n",
      " marital-status\n",
      " occupation\n",
      " relationship\n",
      " race\n",
      " sex\n",
      " capital-gain\n",
      " capital-loss\n",
      " hours-per-week\n",
      " native-country\n",
      " salary\n"
     ]
    }
   ],
   "source": [
    "data = pd.read_csv('adult.data.csv')\n",
    "print(\"\\n\".join(data.columns))"
   ]
  },
  {
   "cell_type": "code",
   "execution_count": 4,
   "metadata": {},
   "outputs": [
    {
     "data": {
      "text/plain": [
       "(32561, 15)"
      ]
     },
     "execution_count": 4,
     "metadata": {},
     "output_type": "execute_result"
    }
   ],
   "source": [
    "data.shape"
   ]
  },
  {
   "cell_type": "code",
   "execution_count": 5,
   "metadata": {
    "scrolled": true
   },
   "outputs": [
    {
     "data": {
      "text/html": [
       "<div>\n",
       "<style scoped>\n",
       "    .dataframe tbody tr th:only-of-type {\n",
       "        vertical-align: middle;\n",
       "    }\n",
       "\n",
       "    .dataframe tbody tr th {\n",
       "        vertical-align: top;\n",
       "    }\n",
       "\n",
       "    .dataframe thead th {\n",
       "        text-align: right;\n",
       "    }\n",
       "</style>\n",
       "<table border=\"1\" class=\"dataframe\">\n",
       "  <thead>\n",
       "    <tr style=\"text-align: right;\">\n",
       "      <th></th>\n",
       "      <th>age</th>\n",
       "      <th>workclass</th>\n",
       "      <th>fnlwgt</th>\n",
       "      <th>education</th>\n",
       "      <th>education-num</th>\n",
       "      <th>marital-status</th>\n",
       "      <th>occupation</th>\n",
       "      <th>relationship</th>\n",
       "      <th>race</th>\n",
       "      <th>sex</th>\n",
       "      <th>capital-gain</th>\n",
       "      <th>capital-loss</th>\n",
       "      <th>hours-per-week</th>\n",
       "      <th>native-country</th>\n",
       "      <th>salary</th>\n",
       "    </tr>\n",
       "  </thead>\n",
       "  <tbody>\n",
       "    <tr>\n",
       "      <th>0</th>\n",
       "      <td>39</td>\n",
       "      <td>State-gov</td>\n",
       "      <td>77516</td>\n",
       "      <td>Bachelors</td>\n",
       "      <td>13</td>\n",
       "      <td>Never-married</td>\n",
       "      <td>Adm-clerical</td>\n",
       "      <td>Not-in-family</td>\n",
       "      <td>White</td>\n",
       "      <td>Male</td>\n",
       "      <td>2174</td>\n",
       "      <td>0</td>\n",
       "      <td>40</td>\n",
       "      <td>United-States</td>\n",
       "      <td>&lt;=50K</td>\n",
       "    </tr>\n",
       "    <tr>\n",
       "      <th>1</th>\n",
       "      <td>50</td>\n",
       "      <td>Self-emp-not-inc</td>\n",
       "      <td>83311</td>\n",
       "      <td>Bachelors</td>\n",
       "      <td>13</td>\n",
       "      <td>Married-civ-spouse</td>\n",
       "      <td>Exec-managerial</td>\n",
       "      <td>Husband</td>\n",
       "      <td>White</td>\n",
       "      <td>Male</td>\n",
       "      <td>0</td>\n",
       "      <td>0</td>\n",
       "      <td>13</td>\n",
       "      <td>United-States</td>\n",
       "      <td>&lt;=50K</td>\n",
       "    </tr>\n",
       "    <tr>\n",
       "      <th>2</th>\n",
       "      <td>38</td>\n",
       "      <td>Private</td>\n",
       "      <td>215646</td>\n",
       "      <td>HS-grad</td>\n",
       "      <td>9</td>\n",
       "      <td>Divorced</td>\n",
       "      <td>Handlers-cleaners</td>\n",
       "      <td>Not-in-family</td>\n",
       "      <td>White</td>\n",
       "      <td>Male</td>\n",
       "      <td>0</td>\n",
       "      <td>0</td>\n",
       "      <td>40</td>\n",
       "      <td>United-States</td>\n",
       "      <td>&lt;=50K</td>\n",
       "    </tr>\n",
       "    <tr>\n",
       "      <th>3</th>\n",
       "      <td>53</td>\n",
       "      <td>Private</td>\n",
       "      <td>234721</td>\n",
       "      <td>11th</td>\n",
       "      <td>7</td>\n",
       "      <td>Married-civ-spouse</td>\n",
       "      <td>Handlers-cleaners</td>\n",
       "      <td>Husband</td>\n",
       "      <td>Black</td>\n",
       "      <td>Male</td>\n",
       "      <td>0</td>\n",
       "      <td>0</td>\n",
       "      <td>40</td>\n",
       "      <td>United-States</td>\n",
       "      <td>&lt;=50K</td>\n",
       "    </tr>\n",
       "    <tr>\n",
       "      <th>4</th>\n",
       "      <td>28</td>\n",
       "      <td>Private</td>\n",
       "      <td>338409</td>\n",
       "      <td>Bachelors</td>\n",
       "      <td>13</td>\n",
       "      <td>Married-civ-spouse</td>\n",
       "      <td>Prof-specialty</td>\n",
       "      <td>Wife</td>\n",
       "      <td>Black</td>\n",
       "      <td>Female</td>\n",
       "      <td>0</td>\n",
       "      <td>0</td>\n",
       "      <td>40</td>\n",
       "      <td>Cuba</td>\n",
       "      <td>&lt;=50K</td>\n",
       "    </tr>\n",
       "  </tbody>\n",
       "</table>\n",
       "</div>"
      ],
      "text/plain": [
       "   age          workclass   fnlwgt   education   education-num  \\\n",
       "0   39          State-gov    77516   Bachelors              13   \n",
       "1   50   Self-emp-not-inc    83311   Bachelors              13   \n",
       "2   38            Private   215646     HS-grad               9   \n",
       "3   53            Private   234721        11th               7   \n",
       "4   28            Private   338409   Bachelors              13   \n",
       "\n",
       "        marital-status          occupation    relationship    race      sex  \\\n",
       "0        Never-married        Adm-clerical   Not-in-family   White     Male   \n",
       "1   Married-civ-spouse     Exec-managerial         Husband   White     Male   \n",
       "2             Divorced   Handlers-cleaners   Not-in-family   White     Male   \n",
       "3   Married-civ-spouse   Handlers-cleaners         Husband   Black     Male   \n",
       "4   Married-civ-spouse      Prof-specialty            Wife   Black   Female   \n",
       "\n",
       "    capital-gain   capital-loss   hours-per-week  native-country  salary  \n",
       "0           2174              0               40   United-States   <=50K  \n",
       "1              0              0               13   United-States   <=50K  \n",
       "2              0              0               40   United-States   <=50K  \n",
       "3              0              0               40   United-States   <=50K  \n",
       "4              0              0               40            Cuba   <=50K  "
      ]
     },
     "execution_count": 5,
     "metadata": {},
     "output_type": "execute_result"
    }
   ],
   "source": [
    "data.head()"
   ]
  },
  {
   "cell_type": "markdown",
   "metadata": {},
   "source": [
    "### 1. How many men and women (sex feature) are represented in this dataset?"
   ]
  },
  {
   "cell_type": "code",
   "execution_count": 6,
   "metadata": {},
   "outputs": [
    {
     "data": {
      "text/plain": [
       " Male      21790\n",
       " Female    10771\n",
       "Name: sex, dtype: int64"
      ]
     },
     "execution_count": 6,
     "metadata": {},
     "output_type": "execute_result"
    }
   ],
   "source": [
    "# You answer (code + results)\n",
    "data.columns = data.columns.str.strip()\n",
    "data['sex'].value_counts() #display both sexes"
   ]
  },
  {
   "cell_type": "markdown",
   "metadata": {},
   "source": [
    "### 2. What is the average age (age feature) of women?"
   ]
  },
  {
   "cell_type": "code",
   "execution_count": 32,
   "metadata": {},
   "outputs": [
    {
     "name": "stdout",
     "output_type": "stream",
     "text": [
      "Average age of women is:  36.86\n"
     ]
    }
   ],
   "source": [
    "# You answer (code + results)\n",
    "#data.columns = data.columns.str.strip()\n",
    "num_women = len(data[data['sex'] == ' Female'])    # number of women\n",
    "sum_ages = sum(data[data['sex'] == ' Female']['age'])    # sum of ages of women\n",
    "print('Average age of women is: ',round(sum_ages / num_women, 2))"
   ]
  },
  {
   "cell_type": "markdown",
   "metadata": {},
   "source": [
    "### 3. What is the percentage of German citizens (native-country feature)?\n"
   ]
  },
  {
   "cell_type": "code",
   "execution_count": 56,
   "metadata": {},
   "outputs": [
    {
     "name": "stdout",
     "output_type": "stream",
     "text": [
      "Percentage of German citizens is 0.421 %\n"
     ]
    }
   ],
   "source": [
    "# You answer (code + results)\n",
    "data.columns = data.columns.str.strip()\n",
    "num_German = len(data[data['native-country'] == ' Germany']) #number of people who are german\n",
    "all_citizens = len(data)\n",
    "print(\"Percentage of German citizens is\", round(float(100 * num_German / all_citizens), 3),\"%\")"
   ]
  },
  {
   "cell_type": "markdown",
   "metadata": {},
   "source": [
    "###  4. What are the mean and standard deviation of age for those who earn more than 50K per year (salary feature) and those who earn less than 50K per year?"
   ]
  },
  {
   "cell_type": "code",
   "execution_count": 78,
   "metadata": {},
   "outputs": [
    {
     "name": "stdout",
     "output_type": "stream",
     "text": [
      "Mean of those whose salary is more than 50K:  44.25\n",
      "Standard Deviation of those whose salary is more than 50K:  10.52\n",
      "\n",
      "Mean of those whose salary is less than 50K:  36.78\n",
      "Standard Deviation of those whose salary is less than 50K:  14.02\n"
     ]
    }
   ],
   "source": [
    "# You answer (code + results)\n",
    "more_than50 = data[data['salary'] == ' >50K']['age']\n",
    "data.columns = data.columns.str.strip()\n",
    "print('Mean of those whose salary is more than 50K: ',round(np.mean(more_than50),2))\n",
    "print('Standard Deviation of those whose salary is more than 50K: ',round(np.std(more_than50),2))\n",
    "\n",
    "less_than50 = data[data['salary'] == ' <=50K']['age']\n",
    "print('\\nMean of those whose salary is less than 50K: ',round(np.mean(less_than50),2))\n",
    "print('Standard Deviation of those whose salary is less than 50K: ',round(np.std(less_than50),2))"
   ]
  },
  {
   "cell_type": "markdown",
   "metadata": {},
   "source": [
    "### 5. Is it true that people who earn more than 50K have at least high school education? (education – Bachelors, Prof-school, Assoc-acdm, Assoc-voc, Masters or Doctorate feature)"
   ]
  },
  {
   "cell_type": "code",
   "execution_count": 81,
   "metadata": {},
   "outputs": [
    {
     "name": "stdout",
     "output_type": "stream",
     "text": [
      "Number of people that earn more than 50K:  7841\n",
      "the number of people with any education:  7597\n",
      "the number of people with education higher than high school:  4535\n",
      "in conclusion, no\n"
     ]
    }
   ],
   "source": [
    "# You answer (code + results)\n",
    "bachelors = 0\n",
    "profSchool = 0\n",
    "assocAcdm = 0\n",
    "assocVoc = 0\n",
    "masters = 0\n",
    "doctorate = 0\n",
    "highSchool = 0\n",
    "someCollege = 0\n",
    "count = 0 # total number of people\n",
    "\n",
    "for i in range (0, len(data)):\n",
    "    if (data.iloc[i][14] == ' >50K'): # data is gathered from people who make more than 50K\n",
    "        if (data.iloc[i][3] == ' Bachelors'):\n",
    "            bachelors += 1\n",
    "        elif (data.iloc[i][3] == ' Prof-school'):\n",
    "            profSchool += 1\n",
    "        elif (data.iloc[i][3] == ' Assoc-acdm'):\n",
    "            assocAcdm += 1\n",
    "        elif (data.iloc[i][3] == ' Assoc-voc'):\n",
    "            assocVoc += 1\n",
    "        elif (data.iloc[i][3] == ' Masters'):\n",
    "            masters += 1\n",
    "        elif (data.iloc[i][3] == ' Doctorate'):\n",
    "            doctorate += 1\n",
    "        elif (data.iloc[i][3] == ' HS-grad'):\n",
    "            highSchool += 1\n",
    "        elif (data.iloc[i][3] == ' Some-college'):\n",
    "            someCollege += 1\n",
    "        count += 1\n",
    "print(\"Number of people that earn more than 50K: \", count)\n",
    "print(\"the number of people with any education: \", bachelors + profSchool + assocAcdm + assocVoc + masters + doctorate + highSchool + someCollege)\n",
    "print(\"the number of people with education higher than high school: \", bachelors + profSchool + assocAcdm + assocVoc + masters + doctorate)\n",
    "\n",
    "print(\"in conclusion, no\")\n"
   ]
  },
  {
   "cell_type": "markdown",
   "metadata": {},
   "source": [
    "### 6.  Display age statistics for each race (race feature) and each gender (sex feature). "
   ]
  },
  {
   "cell_type": "markdown",
   "metadata": {},
   "source": [
    "Hint: Use `groupby()` and `describe()` functions of DataFrame. Find the maximum age of men of Amer-Indian-Eskimo race."
   ]
  },
  {
   "cell_type": "code",
   "execution_count": 64,
   "metadata": {},
   "outputs": [
    {
     "name": "stdout",
     "output_type": "stream",
     "text": [
      "Race:  Amer-Indian-Eskimo, sex:  Female\n",
      "count    119.000000\n",
      "mean      37.117647\n",
      "std       13.114991\n",
      "min       17.000000\n",
      "25%       27.000000\n",
      "50%       36.000000\n",
      "75%       46.000000\n",
      "max       80.000000\n",
      "Name: age, dtype: float64\n",
      "Race:  Amer-Indian-Eskimo, sex:  Male\n",
      "count    192.000000\n",
      "mean      37.208333\n",
      "std       12.049563\n",
      "min       17.000000\n",
      "25%       28.000000\n",
      "50%       35.000000\n",
      "75%       45.000000\n",
      "max       82.000000\n",
      "Name: age, dtype: float64\n",
      "Race:  Asian-Pac-Islander, sex:  Female\n",
      "count    346.000000\n",
      "mean      35.089595\n",
      "std       12.300845\n",
      "min       17.000000\n",
      "25%       25.000000\n",
      "50%       33.000000\n",
      "75%       43.750000\n",
      "max       75.000000\n",
      "Name: age, dtype: float64\n",
      "Race:  Asian-Pac-Islander, sex:  Male\n",
      "count    693.000000\n",
      "mean      39.073593\n",
      "std       12.883944\n",
      "min       18.000000\n",
      "25%       29.000000\n",
      "50%       37.000000\n",
      "75%       46.000000\n",
      "max       90.000000\n",
      "Name: age, dtype: float64\n",
      "Race:  Black, sex:  Female\n",
      "count    1555.000000\n",
      "mean       37.854019\n",
      "std        12.637197\n",
      "min        17.000000\n",
      "25%        28.000000\n",
      "50%        37.000000\n",
      "75%        46.000000\n",
      "max        90.000000\n",
      "Name: age, dtype: float64\n",
      "Race:  Black, sex:  Male\n",
      "count    1569.000000\n",
      "mean       37.682600\n",
      "std        12.882612\n",
      "min        17.000000\n",
      "25%        27.000000\n",
      "50%        36.000000\n",
      "75%        46.000000\n",
      "max        90.000000\n",
      "Name: age, dtype: float64\n",
      "Race:  Other, sex:  Female\n",
      "count    109.000000\n",
      "mean      31.678899\n",
      "std       11.631599\n",
      "min       17.000000\n",
      "25%       23.000000\n",
      "50%       29.000000\n",
      "75%       39.000000\n",
      "max       74.000000\n",
      "Name: age, dtype: float64\n",
      "Race:  Other, sex:  Male\n",
      "count    162.000000\n",
      "mean      34.654321\n",
      "std       11.355531\n",
      "min       17.000000\n",
      "25%       26.000000\n",
      "50%       32.000000\n",
      "75%       42.000000\n",
      "max       77.000000\n",
      "Name: age, dtype: float64\n",
      "Race:  White, sex:  Female\n",
      "count    8642.000000\n",
      "mean       36.811618\n",
      "std        14.329093\n",
      "min        17.000000\n",
      "25%        25.000000\n",
      "50%        35.000000\n",
      "75%        46.000000\n",
      "max        90.000000\n",
      "Name: age, dtype: float64\n",
      "Race:  White, sex:  Male\n",
      "count    19174.000000\n",
      "mean        39.652498\n",
      "std         13.436029\n",
      "min         17.000000\n",
      "25%         29.000000\n",
      "50%         38.000000\n",
      "75%         49.000000\n",
      "max         90.000000\n",
      "Name: age, dtype: float64\n"
     ]
    }
   ],
   "source": [
    "# You answer (code + results)\n",
    "for (race, sex), sub_df in data.groupby(['race', 'sex']):\n",
    "    print(\"Race: {0}, sex: {1}\".format(race, sex))\n",
    "    print(sub_df['age'].describe())"
   ]
  },
  {
   "cell_type": "markdown",
   "metadata": {},
   "source": [
    "### 7. What is the maximum number of hours a person works per week (hours-per-week feature)? How many people work such a number of hours, and what is the percentage of those who earn a lot (>50K) among them?\n"
   ]
  },
  {
   "cell_type": "code",
   "execution_count": 70,
   "metadata": {},
   "outputs": [
    {
     "name": "stdout",
     "output_type": "stream",
     "text": [
      "Max time = 99 hours/week.\n",
      "Total number of such workers: 85\n",
      "Percentage of workers who make >50k: 17%\n"
     ]
    }
   ],
   "source": [
    "# You answer (code + results)\n",
    "max_hours = data['hours-per-week'].max()# max hours\n",
    "print(\"Max time = {0} hours/week.\".format(max_hours))\n",
    "\n",
    "num_workers = data[data['hours-per-week'] == max_hours].shape[0] #number of people who work max hours per week\n",
    "print(\"Total number of such workers: {0}\".format(num_workers))\n",
    "\n",
    "rich_workers = float(data[(data['hours-per-week'] == max_hours) & (data['salary'] == '>50K')].shape[1]) / num_workers #number of workers who make >50k\n",
    "print(\"Percentage of workers who make >50k: {0}%\".format(int(100 * rich_workers)))\n"
   ]
  },
  {
   "cell_type": "markdown",
   "metadata": {},
   "source": [
    "### 8. Count the average time of work (hours-per-week) for those who earn a little and a lot (salary) for each country (native-country). What will these be for Japan?"
   ]
  },
  {
   "cell_type": "code",
   "execution_count": 85,
   "metadata": {},
   "outputs": [
    {
     "name": "stdout",
     "output_type": "stream",
     "text": [
      " ?  <=50K 40.16\n",
      " ?  >50K 45.55\n",
      " Cambodia  <=50K 41.42\n",
      " Cambodia  >50K 40.0\n",
      " Canada  <=50K 37.91\n",
      " Canada  >50K 45.64\n",
      " China  <=50K 37.38\n",
      " China  >50K 38.9\n",
      " Columbia  <=50K 38.68\n",
      " Columbia  >50K 50.0\n",
      " Cuba  <=50K 37.99\n",
      " Cuba  >50K 42.44\n",
      " Dominican-Republic  <=50K 42.34\n",
      " Dominican-Republic  >50K 47.0\n",
      " Ecuador  <=50K 38.04\n",
      " Ecuador  >50K 48.75\n",
      " El-Salvador  <=50K 36.03\n",
      " El-Salvador  >50K 45.0\n",
      " England  <=50K 40.48\n",
      " England  >50K 44.53\n",
      " France  <=50K 41.06\n",
      " France  >50K 50.75\n",
      " Germany  <=50K 39.14\n",
      " Germany  >50K 44.98\n",
      " Greece  <=50K 41.81\n",
      " Greece  >50K 50.62\n",
      " Guatemala  <=50K 39.36\n",
      " Guatemala  >50K 36.67\n",
      " Haiti  <=50K 36.33\n",
      " Haiti  >50K 42.75\n",
      " Holand-Netherlands  <=50K 40.0\n",
      " Honduras  <=50K 34.33\n",
      " Honduras  >50K 60.0\n",
      " Hong  <=50K 39.14\n",
      " Hong  >50K 45.0\n",
      " Hungary  <=50K 31.3\n",
      " Hungary  >50K 50.0\n",
      " India  <=50K 38.23\n",
      " India  >50K 46.48\n",
      " Iran  <=50K 41.44\n",
      " Iran  >50K 47.5\n",
      " Ireland  <=50K 40.95\n",
      " Ireland  >50K 48.0\n",
      " Italy  <=50K 39.62\n",
      " Italy  >50K 45.4\n",
      " Jamaica  <=50K 38.24\n",
      " Jamaica  >50K 41.1\n",
      " Japan  <=50K 41.0\n",
      " Japan  >50K 47.96\n",
      " Laos  <=50K 40.38\n",
      " Laos  >50K 40.0\n",
      " Mexico  <=50K 40.0\n",
      " Mexico  >50K 46.58\n",
      " Nicaragua  <=50K 36.09\n",
      " Nicaragua  >50K 37.5\n",
      " Outlying-US(Guam-USVI-etc)  <=50K 41.86\n",
      " Peru  <=50K 35.07\n",
      " Peru  >50K 40.0\n",
      " Philippines  <=50K 38.07\n",
      " Philippines  >50K 43.03\n",
      " Poland  <=50K 38.17\n",
      " Poland  >50K 39.0\n",
      " Portugal  <=50K 41.94\n",
      " Portugal  >50K 41.5\n",
      " Puerto-Rico  <=50K 38.47\n",
      " Puerto-Rico  >50K 39.42\n",
      " Scotland  <=50K 39.44\n",
      " Scotland  >50K 46.67\n",
      " South  <=50K 40.16\n",
      " South  >50K 51.44\n",
      " Taiwan  <=50K 33.77\n",
      " Taiwan  >50K 46.8\n",
      " Thailand  <=50K 42.87\n",
      " Thailand  >50K 58.33\n",
      " Trinadad&Tobago  <=50K 37.06\n",
      " Trinadad&Tobago  >50K 40.0\n",
      " United-States  <=50K 38.8\n",
      " United-States  >50K 45.51\n",
      " Vietnam  <=50K 37.19\n",
      " Vietnam  >50K 39.2\n",
      " Yugoslavia  <=50K 41.6\n",
      " Yugoslavia  >50K 49.5\n",
      "As shown above, for japan; for those who earn less than 50K work an average of 41.0 hours and those who earn more than 50K work an average of 47.96 hours.\n"
     ]
    }
   ],
   "source": [
    "# You answer (code + results)\n",
    "for (country, salary), sub_df in data.groupby(['native-country', 'salary']):\n",
    "    print(country, salary, round(sub_df['hours-per-week'].mean(), 2))\n",
    "\n",
    "print(\"As shown above, for japan; for those who earn less than 50K work an average of 41.0 hours and those who earn more than 50K work an average of 47.96 hours.\")"
   ]
  },
  {
   "cell_type": "code",
   "execution_count": 29,
   "metadata": {},
   "outputs": [
    {
     "data": {
      "text/plain": [
       "matrix([[-0.40824829, -0.81174463, -0.45491293],\n",
       "        [-0.81649658,  0.32969496, -0.35973232],\n",
       "        [ 0.40824829,  0.48204967,  0.81464525]])"
      ]
     },
     "execution_count": 29,
     "metadata": {},
     "output_type": "execute_result"
    }
   ],
   "source": [
    "# HW #1 question 2\n",
    "a = np.matrix([[3, 1, 1], [2, 4, 2], [-1, -1, 1]])\n",
    "w, v = LA.eig(a)\n",
    "w; v"
   ]
  },
  {
   "cell_type": "code",
   "execution_count": null,
   "metadata": {},
   "outputs": [],
   "source": [
    "   \"\"\"\n",
    "   A = [3, 1, 1]\n",
    "       [2, 4, 2]\n",
    "       [-1, -1, 1]\n",
    "   \n",
    "   D = [2, 0, 0]\n",
    "       [0, 2, 0]\n",
    "       [0, 0, 4]\n",
    "   \n",
    "   P = [-0.40824829, -0.81174463, -0.45491293]\n",
    "       [-0.81649658,  0.32969496, -0.35973232]\n",
    "       [ 0.40824829,  0.48204967,  0.81464525]\n",
    "       \n",
    "P^-1 = [-1.22, -1.22, -1.22]\n",
    "       [-1.44,  0.41, -0.62]\n",
    "       [ 1.46,  0.37,  2.21]\n",
    "       using A=PDP^-1\n",
    "       =>\n",
    "    [3, 1, 1]\n",
    "    [2, 4, 2]    = [-0.40824829, -0.81174463, -0.45491293]    [2, 0, 0]          [-1.22, -1.22, -1.22]\n",
    "    [-1, -1, 1]    [-0.81649658,  0.32969496, -0.35973232] *   [0, 2, 0]     *  [-1.44,  0.41, -0.62]\n",
    "                   [0.40824829,  0.48204967,  0.81464525]     [0, 0, 4]       [ 1.46,  0.37,  2.21]\n",
    "                         \n",
    "                   \n",
    "     result:\n",
    "     0.6772588508 0.3427759054 -2.0187411324      [1, 0, -2]\n",
    "     3.1435669192 2.795005356   4.7634636136  or  [3, 3 , 5]  There are significant changes between A and the result\n",
    "     2.3730993828 0.6048298718  5.6075965916      [2, 1, 6]\n",
    "                   \n",
    "    \"\"\""
   ]
  }
 ],
 "metadata": {
  "kernelspec": {
   "display_name": "Python 3 (ipykernel)",
   "language": "python",
   "name": "python3"
  },
  "language_info": {
   "codemirror_mode": {
    "name": "ipython",
    "version": 3
   },
   "file_extension": ".py",
   "mimetype": "text/x-python",
   "name": "python",
   "nbconvert_exporter": "python",
   "pygments_lexer": "ipython3",
   "version": "3.9.7"
  }
 },
 "nbformat": 4,
 "nbformat_minor": 4
}
